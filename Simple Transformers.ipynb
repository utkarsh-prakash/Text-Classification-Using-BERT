{
 "cells": [
  {
   "cell_type": "code",
   "execution_count": 1,
   "metadata": {},
   "outputs": [],
   "source": [
    "# People generally use pre trained models like BERT built on top of transformers \n",
    "# This is a general implementation of Transformers"
   ]
  },
  {
   "cell_type": "code",
   "execution_count": 2,
   "metadata": {},
   "outputs": [],
   "source": [
    "import json\n",
    "import tensorflow as tf\n",
    "import numpy as np\n",
    "import random\n",
    "import re\n",
    "import spacy\n",
    "\n",
    "from tensorflow import keras\n",
    "from tensorflow.keras import layers"
   ]
  },
  {
   "cell_type": "code",
   "execution_count": 3,
   "metadata": {},
   "outputs": [
    {
     "name": "stdout",
     "output_type": "stream",
     "text": [
      "1 Physical GPUs, 1 Logical GPUs\n"
     ]
    }
   ],
   "source": [
    "gpus = tf.config.experimental.list_physical_devices('GPU')\n",
    "if gpus:\n",
    "    try:\n",
    "    # Currently, memory growth needs to be the same across GPUs\n",
    "        for gpu in gpus:\n",
    "            tf.config.experimental.set_memory_growth(gpu, True)\n",
    "        logical_gpus = tf.config.experimental.list_logical_devices('GPU')\n",
    "        print(len(gpus), \"Physical GPUs,\", len(logical_gpus), \"Logical GPUs\")\n",
    "    except RuntimeError as e:\n",
    "    # Memory growth must be set before GPUs have been initialized\n",
    "        print(e)"
   ]
  },
  {
   "cell_type": "code",
   "execution_count": 4,
   "metadata": {},
   "outputs": [
    {
     "name": "stdout",
     "output_type": "stream",
     "text": [
      "Total 26709 lines of data.\n"
     ]
    }
   ],
   "source": [
    "with open(\"data/sarcasm.json\", 'r') as f:\n",
    "    datastore = json.load(f)\n",
    "\n",
    "sentences = []\n",
    "labels = []\n",
    "\n",
    "for item in datastore:\n",
    "    sentences.append(item['headline'])\n",
    "    labels.append(item['is_sarcastic'])\n",
    "print('Total', len(labels), 'lines of data.')"
   ]
  },
  {
   "cell_type": "code",
   "execution_count": 5,
   "metadata": {},
   "outputs": [],
   "source": [
    "training_size = 20000\n",
    "training_sentences = sentences[0:training_size]\n",
    "testing_sentences = sentences[training_size:]\n",
    "training_labels = np.array(labels[0:training_size])\n",
    "testing_labels = np.array(labels[training_size:])"
   ]
  },
  {
   "cell_type": "code",
   "execution_count": 6,
   "metadata": {},
   "outputs": [
    {
     "name": "stdout",
     "output_type": "stream",
     "text": [
      "j.crew debuts new line of stylish casualwear for mannequins\n",
      "Is Sarcastic? Yes\n"
     ]
    }
   ],
   "source": [
    "index = random.randint(0,training_size-1)\n",
    "print(training_sentences[index])\n",
    "ref = {0:'No', 1:'Yes'}\n",
    "print(\"Is Sarcastic?\", ref[training_labels[index]])"
   ]
  },
  {
   "cell_type": "code",
   "execution_count": 7,
   "metadata": {},
   "outputs": [],
   "source": [
    "model = \"en_core_web_sm\"\n",
    "nlp = spacy.load(model)"
   ]
  },
  {
   "cell_type": "code",
   "execution_count": 8,
   "metadata": {},
   "outputs": [],
   "source": [
    "def text_processing(text):\n",
    "    text = re.sub('[^a-zA-Z]', ' ', text)\n",
    "    text = re.sub(' +', ' ', text)\n",
    "    all_stopwords = nlp.Defaults.stop_words\n",
    "    text = nlp(text)\n",
    "    text_tokens = [token.lemma_ for token in text]\n",
    "    tokens_without_sw= [word for word in text_tokens if not word in all_stopwords]\n",
    "    return \" \".join(tokens_without_sw)"
   ]
  },
  {
   "cell_type": "code",
   "execution_count": 9,
   "metadata": {},
   "outputs": [],
   "source": [
    "training_sentences = np.array(list(map(text_processing, training_sentences)))\n",
    "testing_sentences = np.array(list(map(text_processing, testing_sentences)))"
   ]
  },
  {
   "cell_type": "code",
   "execution_count": 10,
   "metadata": {},
   "outputs": [
    {
     "data": {
      "text/plain": [
       "array([0, 0, 1, ..., 0, 0, 1])"
      ]
     },
     "execution_count": 10,
     "metadata": {},
     "output_type": "execute_result"
    }
   ],
   "source": [
    "training_labels"
   ]
  },
  {
   "cell_type": "markdown",
   "metadata": {},
   "source": [
    "### Transformer"
   ]
  },
  {
   "cell_type": "code",
   "execution_count": 11,
   "metadata": {},
   "outputs": [],
   "source": [
    "# Multi-headed attention\n",
    "class MultiHeadSelfAttention(layers.Layer):\n",
    "    def __init__(self, embed_dim, num_heads=8):\n",
    "        super(MultiHeadSelfAttention, self).__init__()\n",
    "        self.embed_dim = embed_dim\n",
    "        self.num_heads = num_heads\n",
    "        if embed_dim % num_heads != 0:\n",
    "            raise ValueError(\n",
    "                f\"embedding dimension = {embed_dim} should be divisible by number of heads = {num_heads}\"\n",
    "            )\n",
    "        self.projection_dim = embed_dim // num_heads\n",
    "        self.query_dense = layers.Dense(embed_dim)\n",
    "        self.key_dense = layers.Dense(embed_dim)\n",
    "        self.value_dense = layers.Dense(embed_dim)\n",
    "        self.combine_heads = layers.Dense(embed_dim)\n",
    "\n",
    "    def attention(self, query, key, value):\n",
    "        score = tf.matmul(query, key, transpose_b=True)\n",
    "        dim_key = tf.cast(tf.shape(key)[-1], tf.float32)\n",
    "        scaled_score = score / tf.math.sqrt(dim_key)\n",
    "        weights = tf.nn.softmax(scaled_score, axis=-1)\n",
    "        output = tf.matmul(weights, value)\n",
    "        return output, weights\n",
    "\n",
    "    def separate_heads(self, x, batch_size):\n",
    "        x = tf.reshape(x, (batch_size, -1, self.num_heads, self.projection_dim))\n",
    "        return tf.transpose(x, perm=[0, 2, 1, 3])\n",
    "\n",
    "    def call(self, inputs):\n",
    "        # x.shape = [batch_size, seq_len, embedding_dim]\n",
    "        batch_size = tf.shape(inputs)[0]\n",
    "        query = self.query_dense(inputs)  # (batch_size, seq_len, embed_dim)\n",
    "        key = self.key_dense(inputs)  # (batch_size, seq_len, embed_dim)\n",
    "        value = self.value_dense(inputs)  # (batch_size, seq_len, embed_dim)\n",
    "        query = self.separate_heads(\n",
    "            query, batch_size\n",
    "        )  # (batch_size, num_heads, seq_len, projection_dim)\n",
    "        key = self.separate_heads(\n",
    "            key, batch_size\n",
    "        )  # (batch_size, num_heads, seq_len, projection_dim)\n",
    "        value = self.separate_heads(\n",
    "            value, batch_size\n",
    "        )  # (batch_size, num_heads, seq_len, projection_dim)\n",
    "        attention, weights = self.attention(query, key, value)\n",
    "        attention = tf.transpose(\n",
    "            attention, perm=[0, 2, 1, 3]\n",
    "        )  # (batch_size, seq_len, num_heads, projection_dim)\n",
    "        concat_attention = tf.reshape(\n",
    "            attention, (batch_size, -1, self.embed_dim)\n",
    "        )  # (batch_size, seq_len, embed_dim)\n",
    "        output = self.combine_heads(\n",
    "            concat_attention\n",
    "        )  # (batch_size, seq_len, embed_dim)\n",
    "        return output"
   ]
  },
  {
   "cell_type": "code",
   "execution_count": 12,
   "metadata": {},
   "outputs": [],
   "source": [
    "# Transformer Block\n",
    "class TransformerBlock(layers.Layer):\n",
    "    def __init__(self, embed_dim, num_heads, ff_dim, rate=0.1):\n",
    "        super(TransformerBlock, self).__init__()\n",
    "        self.att = MultiHeadSelfAttention(embed_dim, num_heads)\n",
    "        self.ffn = keras.Sequential(\n",
    "            [layers.Dense(ff_dim, activation=\"relu\"), layers.Dense(embed_dim),]\n",
    "        )\n",
    "        self.layernorm1 = layers.LayerNormalization(epsilon=1e-6)\n",
    "        self.layernorm2 = layers.LayerNormalization(epsilon=1e-6)\n",
    "        self.dropout1 = layers.Dropout(rate)\n",
    "        self.dropout2 = layers.Dropout(rate)\n",
    "\n",
    "    def call(self, inputs, training):\n",
    "        attn_output = self.att(inputs)\n",
    "        attn_output = self.dropout1(attn_output, training=training)\n",
    "        out1 = self.layernorm1(inputs + attn_output)\n",
    "        ffn_output = self.ffn(out1)\n",
    "        ffn_output = self.dropout2(ffn_output, training=training)\n",
    "        return self.layernorm2(out1 + ffn_output)"
   ]
  },
  {
   "cell_type": "code",
   "execution_count": 13,
   "metadata": {},
   "outputs": [],
   "source": [
    "# Embedding layer\n",
    "class TokenAndPositionEmbedding(layers.Layer):\n",
    "    def __init__(self, maxlen, vocab_size, embed_dim):\n",
    "        super(TokenAndPositionEmbedding, self).__init__()\n",
    "        self.token_emb = layers.Embedding(input_dim=vocab_size, output_dim=embed_dim)\n",
    "        self.pos_emb = layers.Embedding(input_dim=maxlen, output_dim=embed_dim)\n",
    "\n",
    "    def call(self, x):\n",
    "        maxlen = tf.shape(x)[-1]\n",
    "        positions = tf.range(start=0, limit=maxlen, delta=1)\n",
    "        positions = self.pos_emb(positions)\n",
    "        x = self.token_emb(x)\n",
    "        return x + positions"
   ]
  },
  {
   "cell_type": "markdown",
   "metadata": {},
   "source": [
    "### Prepare Data"
   ]
  },
  {
   "cell_type": "code",
   "execution_count": 14,
   "metadata": {},
   "outputs": [
    {
     "name": "stdout",
     "output_type": "stream",
     "text": [
      "20000 Training sequences\n",
      "6709 Validation sequences\n"
     ]
    }
   ],
   "source": [
    "vocab_size = 10000  # Only consider the top 10k words\n",
    "maxlen = 70  # Only consider the first 70 words of each movie review\n",
    "print(len(training_sentences), \"Training sequences\")\n",
    "print(len(testing_sentences), \"Validation sequences\")"
   ]
  },
  {
   "cell_type": "code",
   "execution_count": 15,
   "metadata": {},
   "outputs": [],
   "source": [
    "from tensorflow.keras.preprocessing.text import Tokenizer\n",
    "trunc_type='post'\n",
    "oov_tok = \"<OOV>\"\n",
    "tokenizer = Tokenizer(num_words = vocab_size, oov_token=oov_tok)\n",
    "tokenizer.fit_on_texts(training_sentences)\n",
    "word_index = tokenizer.word_index\n",
    "sequences = tokenizer.texts_to_sequences(training_sentences)\n",
    "\n",
    "testing_sequences = tokenizer.texts_to_sequences(testing_sentences)"
   ]
  },
  {
   "cell_type": "code",
   "execution_count": 16,
   "metadata": {},
   "outputs": [],
   "source": [
    "x_train = keras.preprocessing.sequence.pad_sequences(sequences, maxlen=maxlen)\n",
    "x_val = keras.preprocessing.sequence.pad_sequences(testing_sequences, maxlen=maxlen)"
   ]
  },
  {
   "cell_type": "markdown",
   "metadata": {},
   "source": [
    "### Classifier Model with transformer layer"
   ]
  },
  {
   "cell_type": "code",
   "execution_count": 17,
   "metadata": {},
   "outputs": [],
   "source": [
    "embed_dim = 32  # Embedding size for each token\n",
    "num_heads = 2  # Number of attention heads\n",
    "ff_dim = 32  # Hidden layer size in feed forward network inside transformer\n",
    "\n",
    "inputs = layers.Input(shape=(maxlen,))\n",
    "embedding_layer = TokenAndPositionEmbedding(maxlen, vocab_size, embed_dim)\n",
    "x = embedding_layer(inputs)\n",
    "transformer_block = TransformerBlock(embed_dim, num_heads, ff_dim)\n",
    "x = transformer_block(x)\n",
    "x = layers.GlobalAveragePooling1D()(x)\n",
    "x = layers.Dropout(0.1)(x)\n",
    "x = layers.Dense(20, activation=\"relu\")(x)\n",
    "x = layers.Dropout(0.1)(x)\n",
    "outputs = layers.Dense(1, activation=\"sigmoid\")(x)\n",
    "\n",
    "model = keras.Model(inputs=inputs, outputs=outputs)"
   ]
  },
  {
   "cell_type": "markdown",
   "metadata": {},
   "source": [
    "### Train and Evaluate"
   ]
  },
  {
   "cell_type": "code",
   "execution_count": 18,
   "metadata": {},
   "outputs": [
    {
     "name": "stdout",
     "output_type": "stream",
     "text": [
      "Model: \"model\"\n",
      "_________________________________________________________________\n",
      "Layer (type)                 Output Shape              Param #   \n",
      "=================================================================\n",
      "input_1 (InputLayer)         [(None, 70)]              0         \n",
      "_________________________________________________________________\n",
      "token_and_position_embedding (None, 70, 32)            322240    \n",
      "_________________________________________________________________\n",
      "transformer_block (Transform (None, 70, 32)            6464      \n",
      "_________________________________________________________________\n",
      "global_average_pooling1d (Gl (None, 32)                0         \n",
      "_________________________________________________________________\n",
      "dropout_2 (Dropout)          (None, 32)                0         \n",
      "_________________________________________________________________\n",
      "dense_6 (Dense)              (None, 20)                660       \n",
      "_________________________________________________________________\n",
      "dropout_3 (Dropout)          (None, 20)                0         \n",
      "_________________________________________________________________\n",
      "dense_7 (Dense)              (None, 1)                 21        \n",
      "=================================================================\n",
      "Total params: 329,385\n",
      "Trainable params: 329,385\n",
      "Non-trainable params: 0\n",
      "_________________________________________________________________\n"
     ]
    }
   ],
   "source": [
    "model.compile(loss='binary_crossentropy',optimizer='adam',metrics=['accuracy'])\n",
    "model.summary()"
   ]
  },
  {
   "cell_type": "code",
   "execution_count": 19,
   "metadata": {},
   "outputs": [
    {
     "name": "stdout",
     "output_type": "stream",
     "text": [
      "Epoch 1/30\n",
      "625/625 [==============================] - 14s 15ms/step - loss: 0.6684 - accuracy: 0.5854 - val_loss: 0.4704 - val_accuracy: 0.7763\n",
      "Epoch 2/30\n",
      "625/625 [==============================] - 9s 14ms/step - loss: 0.3744 - accuracy: 0.8352 - val_loss: 0.4504 - val_accuracy: 0.7976\n",
      "Epoch 3/30\n",
      "625/625 [==============================] - 9s 14ms/step - loss: 0.2457 - accuracy: 0.9032 - val_loss: 0.4927 - val_accuracy: 0.7840\n",
      "Epoch 4/30\n",
      "625/625 [==============================] - 9s 14ms/step - loss: 0.1773 - accuracy: 0.9314 - val_loss: 0.6021 - val_accuracy: 0.7855\n",
      "Epoch 5/30\n",
      "625/625 [==============================] - 9s 15ms/step - loss: 0.1281 - accuracy: 0.9472 - val_loss: 0.7022 - val_accuracy: 0.7860\n",
      "Epoch 6/30\n",
      "625/625 [==============================] - 11s 18ms/step - loss: 0.1034 - accuracy: 0.9552 - val_loss: 0.8891 - val_accuracy: 0.7773\n",
      "Epoch 7/30\n",
      "625/625 [==============================] - 11s 18ms/step - loss: 0.0817 - accuracy: 0.9638 - val_loss: 0.9738 - val_accuracy: 0.7731\n",
      "Epoch 8/30\n",
      "625/625 [==============================] - 10s 15ms/step - loss: 0.0731 - accuracy: 0.9683 - val_loss: 1.0442 - val_accuracy: 0.7688\n",
      "Epoch 9/30\n",
      "625/625 [==============================] - 10s 15ms/step - loss: 0.0608 - accuracy: 0.9720 - val_loss: 1.1750 - val_accuracy: 0.7719\n",
      "Epoch 10/30\n",
      "625/625 [==============================] - 10s 15ms/step - loss: 0.0580 - accuracy: 0.9713 - val_loss: 1.1979 - val_accuracy: 0.7691\n",
      "Epoch 11/30\n",
      "625/625 [==============================] - 9s 15ms/step - loss: 0.0534 - accuracy: 0.9735 - val_loss: 1.3429 - val_accuracy: 0.7693\n",
      "Epoch 12/30\n",
      "625/625 [==============================] - 9s 15ms/step - loss: 0.0431 - accuracy: 0.9789 - val_loss: 1.3397 - val_accuracy: 0.7584\n",
      "Epoch 13/30\n",
      "625/625 [==============================] - 9s 15ms/step - loss: 0.0370 - accuracy: 0.9828 - val_loss: 1.2208 - val_accuracy: 0.7621\n",
      "Epoch 14/30\n",
      "625/625 [==============================] - 9s 15ms/step - loss: 0.0363 - accuracy: 0.9826 - val_loss: 1.6267 - val_accuracy: 0.7605\n",
      "Epoch 15/30\n",
      "625/625 [==============================] - 9s 15ms/step - loss: 0.0358 - accuracy: 0.9851 - val_loss: 1.6991 - val_accuracy: 0.7576\n",
      "Epoch 16/30\n",
      "625/625 [==============================] - 9s 15ms/step - loss: 0.0279 - accuracy: 0.9878 - val_loss: 1.4675 - val_accuracy: 0.7414\n",
      "Epoch 17/30\n",
      "625/625 [==============================] - 9s 14ms/step - loss: 0.0253 - accuracy: 0.9912 - val_loss: 1.5846 - val_accuracy: 0.7554\n",
      "Epoch 18/30\n",
      "625/625 [==============================] - 10s 16ms/step - loss: 0.0204 - accuracy: 0.9917 - val_loss: 1.6490 - val_accuracy: 0.7643\n",
      "Epoch 19/30\n",
      "625/625 [==============================] - 9s 15ms/step - loss: 0.0148 - accuracy: 0.9946 - val_loss: 1.8741 - val_accuracy: 0.7597\n",
      "Epoch 20/30\n",
      "625/625 [==============================] - 9s 15ms/step - loss: 0.0134 - accuracy: 0.9955 - val_loss: 1.6878 - val_accuracy: 0.7620\n",
      "Epoch 21/30\n",
      "625/625 [==============================] - 10s 15ms/step - loss: 0.0097 - accuracy: 0.9964 - val_loss: 1.8578 - val_accuracy: 0.7582\n",
      "Epoch 22/30\n",
      "625/625 [==============================] - 9s 14ms/step - loss: 0.0136 - accuracy: 0.9957 - val_loss: 2.1465 - val_accuracy: 0.7533\n",
      "Epoch 23/30\n",
      "625/625 [==============================] - 9s 15ms/step - loss: 0.0129 - accuracy: 0.9949 - val_loss: 1.8654 - val_accuracy: 0.7596\n",
      "Epoch 24/30\n",
      "625/625 [==============================] - 9s 15ms/step - loss: 0.0095 - accuracy: 0.9962 - val_loss: 2.0946 - val_accuracy: 0.7509\n",
      "Epoch 25/30\n",
      "625/625 [==============================] - 9s 15ms/step - loss: 0.0077 - accuracy: 0.9971 - val_loss: 1.7639 - val_accuracy: 0.7606\n",
      "Epoch 26/30\n",
      "625/625 [==============================] - 9s 15ms/step - loss: 0.0088 - accuracy: 0.9971 - val_loss: 1.9522 - val_accuracy: 0.7596\n",
      "Epoch 27/30\n",
      "625/625 [==============================] - 9s 14ms/step - loss: 0.0095 - accuracy: 0.9969 - val_loss: 2.0967 - val_accuracy: 0.7602\n",
      "Epoch 28/30\n",
      "625/625 [==============================] - 9s 14ms/step - loss: 0.0062 - accuracy: 0.9976 - val_loss: 2.0940 - val_accuracy: 0.7603\n",
      "Epoch 29/30\n",
      "625/625 [==============================] - 9s 15ms/step - loss: 0.0047 - accuracy: 0.9989 - val_loss: 2.0747 - val_accuracy: 0.7527\n",
      "Epoch 30/30\n",
      "625/625 [==============================] - 9s 15ms/step - loss: 0.0069 - accuracy: 0.9978 - val_loss: 1.8782 - val_accuracy: 0.7590\n"
     ]
    }
   ],
   "source": [
    "history = model.fit(\n",
    "    x_train, training_labels, epochs=30, validation_data=(x_val, testing_labels)\n",
    ")"
   ]
  },
  {
   "cell_type": "code",
   "execution_count": 20,
   "metadata": {},
   "outputs": [
    {
     "data": {
      "image/png": "[encoded data removed]",
      "text/plain": [
       "<Figure size 432x288 with 1 Axes>"
      ]
     },
     "metadata": {
      "needs_background": "light"
     },
     "output_type": "display_data"
    },
    {
     "data": {
      "image/png": "[encoded data removed]",
      "text/plain": [
       "<Figure size 432x288 with 1 Axes>"
      ]
     },
     "metadata": {
      "needs_background": "light"
     },
     "output_type": "display_data"
    }
   ],
   "source": [
    "import matplotlib.pyplot as plt\n",
    "\n",
    "\n",
    "def plot_graphs(history, string):\n",
    "    plt.plot(history.history[string])\n",
    "    plt.plot(history.history['val_'+string])\n",
    "    plt.xlabel(\"Epochs\")\n",
    "    plt.ylabel(string)\n",
    "    plt.legend([string, 'val_'+string])\n",
    "    plt.show()\n",
    "\n",
    "plot_graphs(history, \"accuracy\")\n",
    "plot_graphs(history, \"loss\")"
   ]
  },
  {
   "cell_type": "markdown",
   "metadata": {},
   "source": [
    "### Testing"
   ]
  },
  {
   "cell_type": "code",
   "execution_count": 21,
   "metadata": {},
   "outputs": [],
   "source": [
    "test = \"'i want to be with someone else,' says woman who must think 3-time hyundai sales leaders grow on trees\"\n",
    "test = np.array([text_processing(test)])\n",
    "test = tokenizer.texts_to_sequences(test)\n",
    "test = keras.preprocessing.sequence.pad_sequences(test, maxlen=maxlen)"
   ]
  },
  {
   "cell_type": "code",
   "execution_count": 22,
   "metadata": {},
   "outputs": [
    {
     "data": {
      "text/plain": [
       "0"
      ]
     },
     "execution_count": 22,
     "metadata": {},
     "output_type": "execute_result"
    }
   ],
   "source": [
    "predict = model.predict(test)\n",
    "predict[0].argmax()"
   ]
  },
  {
   "cell_type": "code",
   "execution_count": 23,
   "metadata": {},
   "outputs": [],
   "source": [
    "test = \"10 year olds will now work in google!\"\n",
    "test = np.array([text_processing(test)])\n",
    "test = tokenizer.texts_to_sequences(test)\n",
    "test = keras.preprocessing.sequence.pad_sequences(test, maxlen=maxlen)"
   ]
  },
  {
   "cell_type": "code",
   "execution_count": 24,
   "metadata": {},
   "outputs": [
    {
     "data": {
      "text/plain": [
       "0"
      ]
     },
     "execution_count": 24,
     "metadata": {},
     "output_type": "execute_result"
    }
   ],
   "source": [
    "predict = model.predict(test)\n",
    "predict[0].argmax()"
   ]
  },
  {
   "cell_type": "code",
   "execution_count": null,
   "metadata": {},
   "outputs": [],
   "source": []
  }
 ],
 "metadata": {
  "kernelspec": {
   "display_name": "Python 3",
   "language": "python",
   "name": "python3"
  },
  "language_info": {
   "codemirror_mode": {
    "name": "ipython",
    "version": 3
   },
   "file_extension": ".py",
   "mimetype": "text/x-python",
   "name": "python",
   "nbconvert_exporter": "python",
   "pygments_lexer": "ipython3",
   "version": "3.7.6"
  }
 },
 "nbformat": 4,
 "nbformat_minor": 4
}
